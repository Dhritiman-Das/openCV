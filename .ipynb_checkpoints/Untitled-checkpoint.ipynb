{
 "cells": [
  {
   "cell_type": "code",
   "execution_count": 1,
   "metadata": {},
   "outputs": [],
   "source": [
    "import cv2 as cv"
   ]
  },
  {
   "cell_type": "code",
   "execution_count": 2,
   "metadata": {},
   "outputs": [
    {
     "data": {
      "text/plain": [
       "array([[[119, 131, 135],\n",
       "        [119, 131, 135],\n",
       "        [119, 131, 135],\n",
       "        ...,\n",
       "        [ 94, 109, 112],\n",
       "        [ 93, 108, 111],\n",
       "        [ 93, 108, 111]],\n",
       "\n",
       "       [[120, 132, 136],\n",
       "        [120, 132, 136],\n",
       "        [120, 132, 136],\n",
       "        ...,\n",
       "        [ 94, 109, 112],\n",
       "        [ 93, 108, 111],\n",
       "        [ 93, 108, 111]],\n",
       "\n",
       "       [[120, 132, 136],\n",
       "        [120, 132, 136],\n",
       "        [120, 132, 136],\n",
       "        ...,\n",
       "        [ 94, 109, 112],\n",
       "        [ 93, 108, 111],\n",
       "        [ 93, 108, 111]],\n",
       "\n",
       "       ...,\n",
       "\n",
       "       [[162, 191, 206],\n",
       "        [162, 191, 206],\n",
       "        [162, 191, 206],\n",
       "        ...,\n",
       "        [157, 187, 204],\n",
       "        [155, 185, 202],\n",
       "        [153, 183, 200]],\n",
       "\n",
       "       [[163, 192, 207],\n",
       "        [163, 192, 207],\n",
       "        [163, 192, 207],\n",
       "        ...,\n",
       "        [156, 186, 203],\n",
       "        [154, 184, 201],\n",
       "        [153, 183, 200]],\n",
       "\n",
       "       [[163, 192, 207],\n",
       "        [163, 192, 207],\n",
       "        [163, 192, 207],\n",
       "        ...,\n",
       "        [156, 186, 203],\n",
       "        [154, 184, 201],\n",
       "        [153, 183, 200]]], dtype=uint8)"
      ]
     },
     "execution_count": 2,
     "metadata": {},
     "output_type": "execute_result"
    }
   ],
   "source": [
    "img = cv.imread('photos/cat1.jpg')\n",
    "cv.imshow('Cat', img)"
   ]
  },
  {
   "cell_type": "code",
   "execution_count": null,
   "metadata": {},
   "outputs": [],
   "source": []
  }
 ],
 "metadata": {
  "kernelspec": {
   "display_name": "Python 3",
   "language": "python",
   "name": "python3"
  },
  "language_info": {
   "codemirror_mode": {
    "name": "ipython",
    "version": 3
   },
   "file_extension": ".py",
   "mimetype": "text/x-python",
   "name": "python",
   "nbconvert_exporter": "python",
   "pygments_lexer": "ipython3",
   "version": "3.8.3"
  }
 },
 "nbformat": 4,
 "nbformat_minor": 4
}
